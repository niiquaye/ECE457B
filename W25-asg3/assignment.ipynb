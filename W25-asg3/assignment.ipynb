{
 "cells": [
  {
   "cell_type": "code",
   "execution_count": 55,
   "metadata": {},
   "outputs": [],
   "source": [
    "import torch\n",
    "import torch.nn as nn\n",
    "import torch.optim as optim\n",
    "import torchvision\n",
    "import torchvision.transforms as transforms\n",
    "from torch.utils.data import DataLoader, TensorDataset\n",
    "import torch.nn.functional as F  # Import functional module\n",
    "import time\n",
    "import pandas as pd\n"
   ]
  },
  {
   "cell_type": "code",
   "execution_count": 40,
   "metadata": {},
   "outputs": [],
   "source": [
    "X_train = pd.read_csv('/home/niiquaye/ECE457B/data/FashionMNISTwithaTwistW25/x_train.csv') # every row is an image vector\n",
    "y_train = pd.read_csv('/home/niiquaye/ECE457B/data/FashionMNISTwithaTwistW25/y_train.csv')\n",
    "X_test = pd.read_csv('/home/niiquaye/ECE457B/data/FashionMNISTwithaTwistW25/x_test.csv')\n",
    "y_test = pd.read_csv('/home/niiquaye/ECE457B/data/FashionMNISTwithaTwistW25/y_test.csv')\n"
   ]
  },
  {
   "cell_type": "code",
   "execution_count": 41,
   "metadata": {},
   "outputs": [],
   "source": [
    "class CNNClassifier(nn.Module):\n",
    "    def __init__(self, num_classes=5):\n",
    "        super(CNNClassifier, self).__init__()\n",
    "        \n",
    "        # Convolutional Layer 1\n",
    "        self.conv1 = nn.Conv1d(in_channels=1, out_channels=32, kernel_size=3, stride=1, padding=1)  # 3x3 filter\n",
    "        \n",
    "        # Convolutional Layer 2\n",
    "        self.conv2 = nn.Conv1d(in_channels=32, out_channels=32, kernel_size=3, stride=1, padding=1)  # 3x3 filter\n",
    "        \n",
    "        # Max Pooling\n",
    "        self.pool = nn.MaxPool1d(kernel_size=2, stride=2)\n",
    "        \n",
    "        # Fully Connected Layer\n",
    "        self.fc1 = nn.Linear(32 * 196, 512)  # Adjusted for the flattened size after pooling\n",
    "        \n",
    "        # Output Layer (Softmax will be applied outside the model during loss computation)\n",
    "        self.fc2 = nn.Linear(512, num_classes)\n",
    "        \n",
    "        # Activation function\n",
    "        self.relu = nn.ReLU()\n",
    "\n",
    "    def forward(self, x):\n",
    "        x = self.relu(self.conv1(x))  # First convolutional layer\n",
    "        x = self.pool(x)  # Max pooling\n",
    "        x = self.relu(self.conv2(x))  # Second convolutional layer\n",
    "        x = self.pool(x)  # Max pooling again\n",
    "        \n",
    "        x = x.view(-1, 32 * 196)  # Flatten the output for the fully connected layer\n",
    "        x = self.relu(self.fc1(x))  # Fully connected layer 1\n",
    "        x = self.fc2(x)  # Output layer\n",
    "        \n",
    "        return x"
   ]
  },
  {
   "cell_type": "code",
   "execution_count": 42,
   "metadata": {},
   "outputs": [],
   "source": [
    "X_train_tensor = torch.tensor(X_train.to_numpy(), dtype=torch.float32).unsqueeze(1)  # Convert X_train to tensor\n",
    "y_train_tensor = torch.tensor(y_train.to_numpy(), dtype=torch.long).squeeze()  # Convert y_train to tensor (for classification tasks)\n",
    "\n",
    "# Create a TensorDataset\n",
    "train_data = TensorDataset(X_train_tensor, y_train_tensor)\n",
    "\n",
    "# Create DataLoader\n",
    "train_loader = DataLoader(train_data, batch_size=32, shuffle=True)\n"
   ]
  },
  {
   "cell_type": "code",
   "execution_count": 43,
   "metadata": {},
   "outputs": [],
   "source": [
    "X_test_tensor = torch.tensor(X_test.to_numpy(), dtype=torch.float32).unsqueeze(1)  # Convert X_test to tensor\n",
    "y_test_tensor = torch.tensor(y_test.to_numpy(), dtype=torch.long).squeeze()  # Convert y_test to tensor (for classification tasks)\n",
    "\n",
    "# Create a TensorDataset\n",
    "test_data = TensorDataset(X_test_tensor, y_test_tensor)\n",
    "\n",
    "# Create DataLoader\n",
    "test_loader = DataLoader(test_data, batch_size=32, shuffle=False)\n"
   ]
  },
  {
   "cell_type": "code",
   "execution_count": 44,
   "metadata": {},
   "outputs": [],
   "source": [
    "import os\n",
    "os.environ['CUDA_LAUNCH_BLOCKING'] = \"1\"\n",
    "\n",
    "device = torch.device('cuda' if torch.cuda.is_available() else 'cpu')\n",
    "# device = 'cpu'"
   ]
  },
  {
   "cell_type": "code",
   "execution_count": 45,
   "metadata": {},
   "outputs": [],
   "source": [
    "# Model, optimizer, loss function\n",
    "model = CNNClassifier(num_classes=5).to(device)  # Move model to GPU\n",
    "optimizer = optim.Adam(model.parameters(), lr=0.001)\n",
    "criterion = nn.CrossEntropyLoss()"
   ]
  },
  {
   "cell_type": "code",
   "execution_count": 46,
   "metadata": {},
   "outputs": [],
   "source": [
    "num_epochs = 1000"
   ]
  },
  {
   "cell_type": "code",
   "execution_count": 47,
   "metadata": {},
   "outputs": [
    {
     "name": "stdout",
     "output_type": "stream",
     "text": [
      "tensor(0) tensor(4)\n"
     ]
    }
   ],
   "source": [
    "print(torch.min(y_train_tensor), torch.max(y_train_tensor))\n"
   ]
  },
  {
   "cell_type": "code",
   "execution_count": 48,
   "metadata": {},
   "outputs": [],
   "source": [
    "def train_model(model, optimizer, criterion, num_epochs):\n",
    "    training_losses = []\n",
    "    for epoch in range(num_epochs):\n",
    "        model.train()  # Set the model to training mode\n",
    "        running_loss = 0.0\n",
    "\n",
    "        for inputs, labels in train_loader:\n",
    "            # Move input and labels to GPU\n",
    "            inputs, labels = inputs.to(device), labels.to(device)\n",
    "\n",
    "            # Zero the gradients\n",
    "            optimizer.zero_grad()\n",
    "\n",
    "            # Forward pass\n",
    "            outputs = model(inputs)\n",
    "\n",
    "            # Compute the loss\n",
    "            loss = criterion(outputs, labels)\n",
    "\n",
    "            # Backward pass and optimize\n",
    "            loss.backward()\n",
    "            optimizer.step()\n",
    "\n",
    "            running_loss += loss.item()\n",
    "\n",
    "        epoch_loss = running_loss / len(train_loader)\n",
    "        training_losses.append(epoch_loss)\n",
    "        print(f\"Epoch {epoch+1}/{num_epochs}, Loss: {epoch_loss}\")\n",
    "\n",
    "    return model, training_losses, num_epochs "
   ]
  },
  {
   "cell_type": "code",
   "execution_count": 49,
   "metadata": {},
   "outputs": [
    {
     "name": "stdout",
     "output_type": "stream",
     "text": [
      "Epoch 1/100, Loss: 0.3384978710443247\n",
      "Epoch 2/100, Loss: 0.07292146743974494\n",
      "Epoch 3/100, Loss: 0.06341988325541606\n",
      "Epoch 4/100, Loss: 0.05475976297503027\n",
      "Epoch 5/100, Loss: 0.048512435541733914\n",
      "Epoch 6/100, Loss: 0.038753670346668996\n",
      "Epoch 7/100, Loss: 0.034288628141535084\n",
      "Epoch 8/100, Loss: 0.02953148145840437\n",
      "Epoch 9/100, Loss: 0.024469955672252207\n",
      "Epoch 10/100, Loss: 0.021396778566575767\n",
      "Epoch 11/100, Loss: 0.02012100278039443\n",
      "Epoch 12/100, Loss: 0.01780854191157416\n",
      "Epoch 13/100, Loss: 0.01610257409360381\n",
      "Epoch 14/100, Loss: 0.015744774512465944\n",
      "Epoch 15/100, Loss: 0.012235270298601891\n",
      "Epoch 16/100, Loss: 0.013043985242923445\n",
      "Epoch 17/100, Loss: 0.010717680167049567\n",
      "Epoch 18/100, Loss: 0.009651096463390366\n",
      "Epoch 19/100, Loss: 0.01198875034748159\n",
      "Epoch 20/100, Loss: 0.012340284555510103\n",
      "Epoch 21/100, Loss: 0.010228555744091226\n",
      "Epoch 22/100, Loss: 0.010460588575464173\n",
      "Epoch 23/100, Loss: 0.008725998318976148\n",
      "Epoch 24/100, Loss: 0.0027286938862765685\n",
      "Epoch 25/100, Loss: 0.01259872628410844\n",
      "Epoch 26/100, Loss: 0.009716440847945592\n",
      "Epoch 27/100, Loss: 0.008009503308838194\n",
      "Epoch 28/100, Loss: 0.00776037498304566\n",
      "Epoch 29/100, Loss: 0.007402438256936917\n",
      "Epoch 30/100, Loss: 0.006400866497249549\n",
      "Epoch 31/100, Loss: 0.006414679953010305\n",
      "Epoch 32/100, Loss: 0.006421217862659508\n",
      "Epoch 33/100, Loss: 0.01120844413753698\n",
      "Epoch 34/100, Loss: 0.003344784741406464\n",
      "Epoch 35/100, Loss: 0.006346635161695891\n",
      "Epoch 36/100, Loss: 0.005410407056263754\n",
      "Epoch 37/100, Loss: 0.010119090481587675\n",
      "Epoch 38/100, Loss: 0.004027041451272536\n",
      "Epoch 39/100, Loss: 0.0012625517139247715\n",
      "Epoch 40/100, Loss: 0.005298122765871648\n",
      "Epoch 41/100, Loss: 0.008322269024105407\n",
      "Epoch 42/100, Loss: 0.004632172874117191\n",
      "Epoch 43/100, Loss: 0.007645219891428436\n",
      "Epoch 44/100, Loss: 0.010421304309653035\n",
      "Epoch 45/100, Loss: 0.0065387934872769915\n",
      "Epoch 46/100, Loss: 0.007864870596902936\n",
      "Epoch 47/100, Loss: 0.005085038522240992\n",
      "Epoch 48/100, Loss: 0.007516305389890257\n",
      "Epoch 49/100, Loss: 0.0029797197025479365\n",
      "Epoch 50/100, Loss: 0.008699003047482726\n",
      "Epoch 51/100, Loss: 0.0072960406327332505\n",
      "Epoch 52/100, Loss: 0.003075030075201263\n",
      "Epoch 53/100, Loss: 0.004776006914088191\n",
      "Epoch 54/100, Loss: 0.005556281704757928\n",
      "Epoch 55/100, Loss: 0.00875481028165257\n",
      "Epoch 56/100, Loss: 0.00017819532086485465\n",
      "Epoch 57/100, Loss: 1.8492896548476523e-06\n",
      "Epoch 58/100, Loss: 2.589660742917962e-07\n",
      "Epoch 59/100, Loss: 1.856669859913988e-07\n",
      "Epoch 60/100, Loss: 5.819043036853581e-08\n",
      "Epoch 61/100, Loss: 3.2267517842872927e-08\n",
      "Epoch 62/100, Loss: 1.8516991161613797e-08\n",
      "Epoch 63/100, Loss: 8.213496295539357e-09\n",
      "Epoch 64/100, Loss: 3.894164946416368e-09\n",
      "Epoch 65/100, Loss: 1.8517163956251656e-09\n",
      "Epoch 66/100, Loss: 9.099638707728749e-10\n",
      "Epoch 67/100, Loss: 3.278254979477424e-10\n",
      "Epoch 68/100, Loss: 1.271565648626923e-10\n",
      "Epoch 69/100, Loss: 4.9670533760111844e-11\n",
      "Epoch 70/100, Loss: 2.1855034878133968e-11\n",
      "Epoch 71/100, Loss: 0.012066378778429566\n",
      "Epoch 72/100, Loss: 0.013647670264340493\n",
      "Epoch 73/100, Loss: 0.004479333782238801\n",
      "Epoch 74/100, Loss: 0.006775421483086793\n",
      "Epoch 75/100, Loss: 0.004920763253608294\n",
      "Epoch 76/100, Loss: 0.007624279262259764\n",
      "Epoch 77/100, Loss: 0.002597918763121603\n",
      "Epoch 78/100, Loss: 0.008862762964092004\n",
      "Epoch 79/100, Loss: 0.005452275867604341\n",
      "Epoch 80/100, Loss: 0.007581244902890225\n",
      "Epoch 81/100, Loss: 0.001808984582180463\n",
      "Epoch 82/100, Loss: 0.009036150550039104\n",
      "Epoch 83/100, Loss: 0.0064266123013641645\n",
      "Epoch 84/100, Loss: 0.005104243960596698\n",
      "Epoch 85/100, Loss: 0.007797987752073194\n",
      "Epoch 86/100, Loss: 0.006475542662089007\n",
      "Epoch 87/100, Loss: 0.002037432012111519\n",
      "Epoch 88/100, Loss: 0.006478523940746065\n",
      "Epoch 89/100, Loss: 0.0020468071735995613\n",
      "Epoch 90/100, Loss: 0.007116198139819962\n",
      "Epoch 91/100, Loss: 0.003376192553515963\n",
      "Epoch 92/100, Loss: 0.004291452994251796\n",
      "Epoch 93/100, Loss: 0.003135438965087464\n",
      "Epoch 94/100, Loss: 0.004304529089141416\n",
      "Epoch 95/100, Loss: 0.004930784868927563\n",
      "Epoch 96/100, Loss: 0.0038580435850076177\n",
      "Epoch 97/100, Loss: 0.006815805545226762\n",
      "Epoch 98/100, Loss: 0.00877106569328001\n",
      "Epoch 99/100, Loss: 0.005708886383053887\n",
      "Epoch 100/100, Loss: 0.005573645557824352\n"
     ]
    }
   ],
   "source": [
    "model, training_losses, epochs = train_model(model, optimizer, criterion, num_epochs=100)\n"
   ]
  },
  {
   "cell_type": "code",
   "execution_count": 51,
   "metadata": {},
   "outputs": [],
   "source": [
    "import matplotlib.pyplot as plt"
   ]
  },
  {
   "cell_type": "code",
   "execution_count": 54,
   "metadata": {},
   "outputs": [
    {
     "data": {
      "image/png": "[encoded data removed]",
      "text/plain": [
       "<Figure size 640x480 with 1 Axes>"
      ]
     },
     "metadata": {},
     "output_type": "display_data"
    }
   ],
   "source": [
    "plt.plot(range(1, epochs+1), training_losses, linestyle='-', color='b')\n",
    "plt.xlabel(\"Epoch\")\n",
    "plt.ylabel(\"Training Loss - Cross Entropy Loss\")\n",
    "plt.title(\"CNN Training Loss vs. Epoch\")\n",
    "plt.grid()\n",
    "plt.show()"
   ]
  },
  {
   "cell_type": "code",
   "execution_count": 58,
   "metadata": {},
   "outputs": [],
   "source": [
    "# After training, you can test your model\n",
    "def eval_model(model):\n",
    "    model.eval()  # Set the model to evaluation mode\n",
    "    with torch.no_grad():  # Disable gradient calculation during testing\n",
    "        correct = 0\n",
    "        total = 0\n",
    "        for inputs, labels in test_loader:\n",
    "            inputs, labels = inputs.to(device), labels.to(device)\n",
    "            outputs = model(inputs)\n",
    "\n",
    "            probabilities = F.softmax(outputs, dim=1) # apply softmax \n",
    "\n",
    "            _, predicted = torch.max(probabilities, 1)\n",
    "\n",
    "            total += labels.size(0)\n",
    "\n",
    "            correct += (predicted == labels).sum().item()\n",
    "\n",
    "        print(f\"ACCURACY: {100 * correct / total}%\")"
   ]
  },
  {
   "cell_type": "code",
   "execution_count": 59,
   "metadata": {},
   "outputs": [
    {
     "name": "stdout",
     "output_type": "stream",
     "text": [
      "ACCURACY: 98.2%\n"
     ]
    }
   ],
   "source": [
    "eval_model(model)"
   ]
  },
  {
   "cell_type": "code",
   "execution_count": 90,
   "metadata": {},
   "outputs": [],
   "source": [
    "class VGG16(nn.Module):\n",
    "    def __init__(self, num_classes=5):\n",
    "        super(VGG16, self).__init__()\n",
    "        self.layer1 = nn.Sequential(\n",
    "            nn.Conv2d(1, 64, kernel_size=3, stride=1, padding=1),\n",
    "            nn.BatchNorm2d(64),\n",
    "            nn.ReLU())\n",
    "        self.layer2 = nn.Sequential(\n",
    "            nn.Conv2d(64, 64, kernel_size=3, stride=1, padding=1),\n",
    "            nn.BatchNorm2d(64),\n",
    "            nn.ReLU(), \n",
    "            nn.MaxPool2d(kernel_size = 2, stride = 2))\n",
    "        self.layer3 = nn.Sequential(\n",
    "            nn.Conv2d(64, 128, kernel_size=3, stride=1, padding=1),\n",
    "            nn.BatchNorm2d(128),\n",
    "            nn.ReLU())\n",
    "        self.layer4 = nn.Sequential(\n",
    "            nn.Conv2d(128, 128, kernel_size=3, stride=1, padding=1),\n",
    "            nn.BatchNorm2d(128),\n",
    "            nn.ReLU(),\n",
    "            nn.MaxPool2d(kernel_size = 2, stride = 2))\n",
    "        self.layer5 = nn.Sequential(\n",
    "            nn.Conv2d(128, 256, kernel_size=3, stride=1, padding=1),\n",
    "            nn.BatchNorm2d(256),\n",
    "            nn.ReLU())\n",
    "        self.layer6 = nn.Sequential(\n",
    "            nn.Conv2d(256, 256, kernel_size=3, stride=1, padding=1),\n",
    "            nn.BatchNorm2d(256),\n",
    "            nn.ReLU())\n",
    "        self.layer7 = nn.Sequential(\n",
    "            nn.Conv2d(256, 256, kernel_size=3, stride=1, padding=1),\n",
    "            nn.BatchNorm2d(256),\n",
    "            nn.ReLU(),\n",
    "            nn.MaxPool2d(kernel_size = 2, stride = 2))\n",
    "        self.layer8 = nn.Sequential(\n",
    "            nn.Conv2d(256, 512, kernel_size=3, stride=1, padding=1),\n",
    "            nn.BatchNorm2d(512),\n",
    "            nn.ReLU())\n",
    "        self.layer9 = nn.Sequential(\n",
    "            nn.Conv2d(512, 512, kernel_size=3, stride=1, padding=1),\n",
    "            nn.BatchNorm2d(512),\n",
    "            nn.ReLU())\n",
    "        self.layer10 = nn.Sequential(\n",
    "            nn.Conv2d(512, 512, kernel_size=3, stride=1, padding=1),\n",
    "            nn.BatchNorm2d(512),\n",
    "            nn.ReLU(),\n",
    "            nn.MaxPool2d(kernel_size = 2, stride = 2))\n",
    "        self.layer11 = nn.Sequential(\n",
    "            nn.Conv2d(512, 512, kernel_size=3, stride=1, padding=1),\n",
    "            nn.BatchNorm2d(512),\n",
    "            nn.ReLU())\n",
    "        self.layer12 = nn.Sequential(\n",
    "            nn.Conv2d(512, 512, kernel_size=3, stride=1, padding=1),\n",
    "            nn.BatchNorm2d(512),\n",
    "            nn.ReLU())\n",
    "        self.layer13 = nn.Sequential(\n",
    "            nn.Conv2d(512, 512, kernel_size=3, stride=1, padding=1),\n",
    "            nn.BatchNorm2d(512),\n",
    "            nn.ReLU())\n",
    "        self.fc = nn.Sequential(\n",
    "            nn.Dropout(0.5),\n",
    "            nn.Linear(512, 4096),\n",
    "            nn.ReLU())\n",
    "        self.fc1 = nn.Sequential(\n",
    "            nn.Dropout(0.5),\n",
    "            nn.Linear(4096, 4096),\n",
    "            nn.ReLU())\n",
    "        self.fc2= nn.Sequential(\n",
    "            nn.Linear(4096, num_classes))\n",
    "\n",
    "    def forward(self, x):\n",
    "        # flatten 'x' here before passing into first layer\n",
    "        # Reshape (10000, 1, 784) -> (10000, 1, 28, 28)\n",
    "        x = x.view(-1, 1, 28, 28) \n",
    "        out = self.layer1(x)\n",
    "        out = self.layer2(out)\n",
    "        out = self.layer3(out)\n",
    "        out = self.layer4(out)\n",
    "        out = self.layer5(out)\n",
    "        out = self.layer6(out)\n",
    "        out = self.layer7(out)\n",
    "        out = self.layer8(out)\n",
    "        out = self.layer9(out)\n",
    "        out = self.layer10(out)\n",
    "        out = self.layer11(out)\n",
    "        out = self.layer12(out)\n",
    "        out = self.layer13(out)\n",
    "        out = out.view(out.size(0), -1)\n",
    "        out = self.fc(out)\n",
    "        out = self.fc1(out)\n",
    "        out = self.fc2(out)\n",
    "        return out"
   ]
  },
  {
   "cell_type": "code",
   "execution_count": 91,
   "metadata": {},
   "outputs": [],
   "source": [
    "# Model, optimizer, loss function\n",
    "vgg16_model = VGG16(num_classes=5).to(device)  # Move model to GPU\n",
    "optimizer = optim.Adam(vgg16_model.parameters(), lr=0.001)\n",
    "criterion = nn.CrossEntropyLoss()"
   ]
  },
  {
   "cell_type": "code",
   "execution_count": 93,
   "metadata": {},
   "outputs": [
    {
     "name": "stdout",
     "output_type": "stream",
     "text": [
      "Epoch 1/100, Loss: 0.13809500535540284\n",
      "Epoch 2/100, Loss: 0.10622701623023798\n",
      "Epoch 3/100, Loss: 0.08391383414921584\n",
      "Epoch 4/100, Loss: 0.08344760784852163\n",
      "Epoch 5/100, Loss: 0.06621785902399958\n",
      "Epoch 6/100, Loss: 0.06307032916482809\n",
      "Epoch 7/100, Loss: 0.04814508163410477\n",
      "Epoch 8/100, Loss: 0.046885003455694824\n",
      "Epoch 9/100, Loss: 0.04160539203286377\n",
      "Epoch 10/100, Loss: 0.04012816422908315\n",
      "Epoch 11/100, Loss: 0.034718548833907334\n",
      "Epoch 12/100, Loss: 0.03143931884070179\n",
      "Epoch 13/100, Loss: 0.033790415401970246\n",
      "Epoch 14/100, Loss: 0.02885264136955425\n",
      "Epoch 15/100, Loss: 0.022538079747619538\n",
      "Epoch 16/100, Loss: 0.029615719362187754\n",
      "Epoch 17/100, Loss: 0.021584466552110212\n",
      "Epoch 18/100, Loss: 0.021528781665776545\n",
      "Epoch 19/100, Loss: 0.025197110478620117\n",
      "Epoch 20/100, Loss: 0.036545105245863185\n",
      "Epoch 21/100, Loss: 0.016499588991006526\n",
      "Epoch 22/100, Loss: 0.01764840654641974\n",
      "Epoch 23/100, Loss: 0.028041103804274294\n",
      "Epoch 24/100, Loss: 0.015635956066830208\n",
      "Epoch 25/100, Loss: 0.019163934544519545\n",
      "Epoch 26/100, Loss: 0.017242330742804513\n",
      "Epoch 27/100, Loss: 0.023740783915583503\n",
      "Epoch 28/100, Loss: 0.011480385994697247\n",
      "Epoch 29/100, Loss: 0.024560626384497703\n",
      "Epoch 30/100, Loss: 0.010979651663741125\n",
      "Epoch 31/100, Loss: 0.014207362074885653\n",
      "Epoch 32/100, Loss: 0.014765689496014178\n",
      "Epoch 33/100, Loss: 0.012874297546308719\n",
      "Epoch 34/100, Loss: 0.018731171407534483\n",
      "Epoch 35/100, Loss: 0.010881827194253305\n",
      "Epoch 36/100, Loss: 0.010846084108429363\n",
      "Epoch 37/100, Loss: 0.013741286774265076\n",
      "Epoch 38/100, Loss: 0.014396980742083168\n",
      "Epoch 39/100, Loss: 0.02497062690271803\n",
      "Epoch 40/100, Loss: 0.014837324317211237\n",
      "Epoch 41/100, Loss: 0.025618579096167545\n",
      "Epoch 42/100, Loss: 0.006853459555280016\n",
      "Epoch 43/100, Loss: 0.009665439810137172\n",
      "Epoch 44/100, Loss: 0.029002538731401746\n",
      "Epoch 45/100, Loss: 0.01346597111946812\n",
      "Epoch 46/100, Loss: 0.008559901188554283\n",
      "Epoch 47/100, Loss: 0.010962703725811124\n",
      "Epoch 48/100, Loss: 0.013161408297410583\n",
      "Epoch 49/100, Loss: 0.04763649741052271\n",
      "Epoch 50/100, Loss: 0.025254410219388426\n",
      "Epoch 51/100, Loss: 0.01004938545551034\n",
      "Epoch 52/100, Loss: 0.006577494040162218\n",
      "Epoch 53/100, Loss: 0.008981397698310724\n",
      "Epoch 54/100, Loss: 0.007953999673063499\n",
      "Epoch 55/100, Loss: 0.020611383837482112\n",
      "Epoch 56/100, Loss: 0.007976074149497525\n",
      "Epoch 57/100, Loss: 0.01019956726369343\n",
      "Epoch 58/100, Loss: 0.007782312898053356\n",
      "Epoch 59/100, Loss: 0.009624581736134466\n",
      "Epoch 60/100, Loss: 0.009899138067323135\n",
      "Epoch 61/100, Loss: 0.007820092237667494\n",
      "Epoch 62/100, Loss: 0.010524980401871276\n",
      "Epoch 63/100, Loss: 0.008668823912035389\n",
      "Epoch 64/100, Loss: 0.009455213756975667\n",
      "Epoch 65/100, Loss: 0.046278151396363154\n",
      "Epoch 66/100, Loss: 0.003999054326764144\n",
      "Epoch 67/100, Loss: 0.005738104520386278\n",
      "Epoch 68/100, Loss: 0.015549125082195626\n",
      "Epoch 69/100, Loss: 0.0090079626780866\n",
      "Epoch 70/100, Loss: 0.09107686964717499\n",
      "Epoch 71/100, Loss: 0.008245935340144084\n",
      "Epoch 72/100, Loss: 0.0028732413123620697\n",
      "Epoch 73/100, Loss: 0.005528032550479804\n",
      "Epoch 74/100, Loss: 0.07539543602974326\n",
      "Epoch 75/100, Loss: 0.012682767660019934\n",
      "Epoch 76/100, Loss: 0.007298385915132275\n",
      "Epoch 77/100, Loss: 0.006055052101430533\n",
      "Epoch 78/100, Loss: 0.009993799802757625\n",
      "Epoch 79/100, Loss: 0.006283945361574877\n",
      "Epoch 80/100, Loss: 0.07375538575579205\n",
      "Epoch 81/100, Loss: 0.01808047017862869\n",
      "Epoch 82/100, Loss: 0.009293421272032898\n",
      "Epoch 83/100, Loss: 0.00524507313370633\n",
      "Epoch 84/100, Loss: 0.10357373241377454\n",
      "Epoch 85/100, Loss: 0.005207957876219952\n",
      "Epoch 86/100, Loss: 0.008815840526868285\n",
      "Epoch 87/100, Loss: 0.013715107937044346\n",
      "Epoch 88/100, Loss: 0.034881351045999834\n",
      "Epoch 89/100, Loss: 0.015830344927813354\n",
      "Epoch 90/100, Loss: 0.005070839195482377\n",
      "Epoch 91/100, Loss: 0.005624859725132772\n",
      "Epoch 92/100, Loss: 0.010634505065254976\n",
      "Epoch 93/100, Loss: 0.0063282287520992665\n",
      "Epoch 94/100, Loss: 0.012560467167291388\n",
      "Epoch 95/100, Loss: 0.007224048653415979\n",
      "Epoch 96/100, Loss: 0.006573521178301559\n",
      "Epoch 97/100, Loss: 0.036532329998970346\n",
      "Epoch 98/100, Loss: 0.008267863438598406\n",
      "Epoch 99/100, Loss: 0.0030999607155460756\n",
      "Epoch 100/100, Loss: 0.00991729715375785\n"
     ]
    }
   ],
   "source": [
    "vgg16_model, training_losses_vgg, epochs = train_model(vgg16_model, optimizer, criterion, 100)"
   ]
  },
  {
   "cell_type": "markdown",
   "metadata": {},
   "source": [
    "- [vgg16 CNN model](https://medium.com/@ilaslanduzgun/create-vgg-from-scratch-in-pytorch-aa194c269b55) \n",
    "- [research paper link](https://arxiv.org/abs/1409.1556)\n",
    "- [pdf link](https://arxiv.org/pdf/1409.1556)"
   ]
  },
  {
   "cell_type": "code",
   "execution_count": 94,
   "metadata": {},
   "outputs": [
    {
     "name": "stdout",
     "output_type": "stream",
     "text": [
      "ACCURACY: 99.0%\n"
     ]
    }
   ],
   "source": [
    "eval_model(vgg16_model)"
   ]
  },
  {
   "cell_type": "code",
   "execution_count": 95,
   "metadata": {},
   "outputs": [
    {
     "data": {
      "image/png": "[encoded data removed]",
      "text/plain": [
       "<Figure size 640x480 with 1 Axes>"
      ]
     },
     "metadata": {},
     "output_type": "display_data"
    }
   ],
   "source": [
    "plt.plot(range(1, epochs+1), training_losses_vgg, linestyle='-', color='b')\n",
    "plt.xlabel(\"Epoch\")\n",
    "plt.ylabel(\"Training Loss - Cross Entropy Loss\")\n",
    "plt.title(\"VGG16 CNN Training Loss vs. Epoch\")\n",
    "plt.grid()\n",
    "plt.show()"
   ]
  },
  {
   "cell_type": "markdown",
   "metadata": {},
   "source": []
  }
 ],
 "metadata": {
  "kernelspec": {
   "display_name": "usr",
   "language": "python",
   "name": "python3"
  },
  "language_info": {
   "codemirror_mode": {
    "name": "ipython",
    "version": 3
   },
   "file_extension": ".py",
   "mimetype": "text/x-python",
   "name": "python",
   "nbconvert_exporter": "python",
   "pygments_lexer": "ipython3",
   "version": "3.8.10"
  }
 },
 "nbformat": 4,
 "nbformat_minor": 2
}
