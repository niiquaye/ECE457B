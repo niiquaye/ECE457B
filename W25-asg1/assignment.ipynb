{
 "cells": [
  {
   "cell_type": "code",
   "execution_count": 4,
   "metadata": {},
   "outputs": [],
   "source": [
    "import pandas as pd"
   ]
  },
  {
   "cell_type": "code",
   "execution_count": 14,
   "metadata": {},
   "outputs": [],
   "source": [
    "winequality_red_df = pd.read_csv(\"winequality-data/winequality-red.csv\", delimiter=\";\", index_col=False)\n",
    "winequality_white_df = pd.read_csv(\"winequality-data/winequality-white.csv\", delimiter=\";\", index_col=False)\n",
    "\n",
    "# add identifier for white/red wine\n",
    "winequality_red_df['color'] = 1\n",
    "winequality_white_df['color'] = 0\n",
    "\n",
    "# concat dataframes\n",
    "wine_quality_df = pd.concat([winequality_white_df, winequality_red_df],axis=0).set_index(['color'])"
   ]
  },
  {
   "cell_type": "markdown",
   "metadata": {},
   "source": [
    "Classification task: predict ‘color‘ from the other features, including\n",
    "‘quality‘."
   ]
  },
  {
   "cell_type": "code",
   "execution_count": 6,
   "metadata": {},
   "outputs": [],
   "source": [
    "\n",
    "abalone_headers = ['Sex', 'Length', 'Diameter', 'Height', 'Whole weight', 'Shucked weight', 'Viscera weight', 'Shell weight',  'Rings']  \n",
    "abalone_df = pd.read_csv(\"abalone-data/abalone.csv\", names=abalone_headers, index_col=['Rings'])"
   ]
  },
  {
   "cell_type": "markdown",
   "metadata": {},
   "source": [
    "Classification task: predict ‘Rings‘ from the other features, this feature\n",
    "is essentially the age of the fish. Note that one of the features is categorical"
   ]
  }
 ],
 "metadata": {
  "interpreter": {
   "hash": "916dbcbb3f70747c44a77c7bcd40155683ae19c65e1c03b4aa3499c5328201f1"
  },
  "kernelspec": {
   "display_name": "Python 3.8.10 64-bit",
   "language": "python",
   "name": "python3"
  },
  "language_info": {
   "codemirror_mode": {
    "name": "ipython",
    "version": 3
   },
   "file_extension": ".py",
   "mimetype": "text/x-python",
   "name": "python",
   "nbconvert_exporter": "python",
   "pygments_lexer": "ipython3",
   "version": "3.8.8"
  },
  "orig_nbformat": 4
 },
 "nbformat": 4,
 "nbformat_minor": 2
}
